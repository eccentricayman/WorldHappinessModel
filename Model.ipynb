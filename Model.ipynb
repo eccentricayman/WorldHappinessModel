{
 "cells": [
  {
   "cell_type": "code",
   "execution_count": 315,
   "metadata": {},
   "outputs": [],
   "source": [
    "import numpy as np\n",
    "import pandas as pd\n",
    "import matplotlib.pyplot as plt\n",
    "from sklearn import linear_model\n",
    "from sklearn import svm\n",
    "from sklearn.linear_model import LogisticRegression\n",
    "from sklearn.utils import shuffle\n",
    "import random\n",
    "%matplotlib inline"
   ]
  },
  {
   "cell_type": "code",
   "execution_count": 316,
   "metadata": {
    "scrolled": false
   },
   "outputs": [],
   "source": [
    "#Loading the dataset\n",
    "data = pd.read_csv(\"world-happiness-report-2021.csv\")\n",
    "data.dropna(axis=1)\n",
    "data = shuffle(data)\n"
   ]
  },
  {
   "cell_type": "code",
   "execution_count": 317,
   "metadata": {},
   "outputs": [
    {
     "name": "stdout",
     "output_type": "stream",
     "text": [
      "5.532838926174495\n"
     ]
    }
   ],
   "source": [
    "#Setting up the data\n",
    "df = data.values\n",
    "X = df[:,6:20]\n",
    "yOg = df[:,2]\n",
    "#print(yOg)\n",
    "#Convert Y to find if a country is happy or not, \n",
    "#first find the average happiness of countries\n",
    "avgHappy = np.mean(yOg)\n",
    "print(avgHappy)\n",
    "Y = []\n",
    "for val in yOg:\n",
    "    if val < avgHappy:\n",
    "        Y.append(0)\n",
    "    else:\n",
    "        Y.append(1)\n"
   ]
  },
  {
   "cell_type": "code",
   "execution_count": 318,
   "metadata": {},
   "outputs": [
    {
     "name": "stdout",
     "output_type": "stream",
     "text": [
      "[1, 1, 1, 0, 1, 0, 0, 0, 1, 1, 1, 0, 1, 0, 0, 1, 0, 0, 1, 1, 1, 0, 1, 1, 1, 1, 0, 1, 0, 0, 1, 0, 1, 1, 1, 1, 0, 1, 0, 0, 1, 0, 0, 0, 0, 0, 0, 0, 0, 0, 1, 1, 0, 1, 0, 1, 0, 0, 1, 0, 0, 0, 1, 1, 1, 0, 0, 0, 0, 0, 0, 0, 0, 1, 1, 1, 0, 0, 1, 0]\n"
     ]
    }
   ],
   "source": [
    "#Resources used were HW#5 and Lecture Notes\n",
    "#Setting up neccessary variables\n",
    "cVals = [0.0001, 0.001, 0.01, 0.1, 1, 10]\n",
    "#Creating a training set and testing test by pseduo-randomly assigning the sets\n",
    "X_train = X[0:80]\n",
    "Y_train = Y[0:80]\n",
    "print(Y_train)\n",
    "X_test = X[80:X.shape[0]-1]\n",
    "Y_test = Y[80:]"
   ]
  },
  {
   "cell_type": "markdown",
   "metadata": {},
   "source": [
    "# Logistic Regression"
   ]
  },
  {
   "cell_type": "code",
   "execution_count": 319,
   "metadata": {},
   "outputs": [],
   "source": [
    "logreg = LogisticRegression(C=.001)"
   ]
  },
  {
   "cell_type": "code",
   "execution_count": 320,
   "metadata": {},
   "outputs": [
    {
     "data": {
      "text/plain": [
       "LogisticRegression(C=0.001)"
      ]
     },
     "execution_count": 320,
     "metadata": {},
     "output_type": "execute_result"
    }
   ],
   "source": [
    "logreg.fit(X_train, Y_train)"
   ]
  },
  {
   "cell_type": "code",
   "execution_count": 321,
   "metadata": {},
   "outputs": [
    {
     "name": "stdout",
     "output_type": "stream",
     "text": [
      "Accuracy: 0.825000\n",
      "W_logreg:  [[ 2.11712524e-02  2.02427216e-03  9.96607176e-02  1.25945299e-03\n",
      "  -1.08351082e-03 -1.25057727e-03 -1.78925858e-08  7.39534170e-03\n",
      "   4.56339246e-03  3.14019338e-03  1.53071911e-03 -7.07255170e-04\n",
      "   7.97298552e-04  7.48649514e-03]]\n",
      "intercept_logreg  [-6.88084854]\n",
      "intercept \n"
     ]
    }
   ],
   "source": [
    "#Fix this up later to show accuracy and testing data\n",
    "\n",
    "yHatLogreg = logreg.predict(X_train)\n",
    "acc_logreg = logreg.score(X_train, Y_train)\n",
    "print(\"Accuracy: %f\"% acc_logreg)\n",
    "w_logreg = logreg.coef_\n",
    "intercept_logreg = logreg.intercept_\n",
    "print(\"W_logreg: \", w_logreg)\n",
    "print(\"intercept_logreg \", intercept_logreg)\n",
    "print(\"intercept \")"
   ]
  },
  {
   "cell_type": "markdown",
   "metadata": {},
   "source": [
    "# Logistic Regression with Lasso Regularization"
   ]
  },
  {
   "cell_type": "code",
   "execution_count": 322,
   "metadata": {},
   "outputs": [],
   "source": [
    "#Logistic Regression with Lasso Regularization\n",
    "acc_train_logreg = []\n",
    "acc_test_logreg = []\n",
    "c_logreg = []"
   ]
  },
  {
   "cell_type": "code",
   "execution_count": 323,
   "metadata": {},
   "outputs": [],
   "source": [
    "def logreg_model(c, X_train, Y_train, X_test, Y_test):\n",
    "    logreg = linear_model.LogisticRegression('l1',C = c,solver='saga')\n",
    "    logreg.fit(X_train,Y_train)\n",
    "    Yhat_train = logreg.predict(X_train)\n",
    "    acc_train = np.mean(Yhat_train == Y_train)\n",
    "    acc_train_logreg.append(acc_train)\n",
    "    #print(\"Accuracy on training data = %f\" % acc_train)\n",
    "    Yhat_test = logreg.predict(X_test)\n",
    "    print(Yhat_test)\n",
    "    print(\"BUUFFFFERRRRR\")\n",
    "    print(Y_test)\n",
    "    print(\"End\")\n",
    "    acc_test = np.mean(Yhat_test == Y_test)\n",
    "    acc_test_logreg.append(acc_test)\n",
    "    #print(\"Accuracy on test data = %f\" % acc_test)\n",
    "    c_logreg.append(c)"
   ]
  },
  {
   "cell_type": "code",
   "execution_count": 324,
   "metadata": {},
   "outputs": [
    {
     "name": "stdout",
     "output_type": "stream",
     "text": [
      "[0 0 0 0 0 0 0 0 0 0 0 0 0 0 0 0 0 0 0 0 0 0 0 0 0 0 0 0 0 0 0 0 0 0 0 0 0\n",
      " 0 0 0 0 0 0 0 0 0 0 0 0 0 0 0 0 0 0 0 0 0 0 0 0 0 0 0 0 0 0 0]\n",
      "BUUFFFFERRRRR\n",
      "[1, 1, 0, 0, 1, 0, 1, 0, 0, 0, 1, 1, 1, 1, 0, 0, 1, 1, 1, 1, 0, 1, 0, 1, 0, 1, 1, 1, 1, 1, 1, 0, 1, 0, 0, 0, 1, 1, 0, 0, 1, 0, 0, 1, 1, 0, 0, 1, 1, 1, 1, 0, 1, 0, 1, 0, 0, 0, 1, 1, 0, 0, 0, 0, 1, 1, 1, 1, 1]\n",
      "End\n",
      "[0 0 0 0 0 0 0 0 0 0 0 0 0 0 0 0 0 0 0 0 0 0 0 0 0 0 0 0 0 0 0 0 0 0 0 0 0\n",
      " 0 0 0 0 0 0 0 0 0 0 0 0 0 0 0 0 0 0 0 0 0 0 0 0 0 0 0 0 0 0 0]\n",
      "BUUFFFFERRRRR\n",
      "[1, 1, 0, 0, 1, 0, 1, 0, 0, 0, 1, 1, 1, 1, 0, 0, 1, 1, 1, 1, 0, 1, 0, 1, 0, 1, 1, 1, 1, 1, 1, 0, 1, 0, 0, 0, 1, 1, 0, 0, 1, 0, 0, 1, 1, 0, 0, 1, 1, 1, 1, 0, 1, 0, 1, 0, 0, 0, 1, 1, 0, 0, 0, 0, 1, 1, 1, 1, 1]\n",
      "End\n",
      "[0 0 0 0 0 0 0 0 0 0 0 0 0 0 0 0 0 0 0 0 0 0 0 0 0 0 0 0 0 0 0 0 0 0 0 0 0\n",
      " 0 0 0 0 0 0 0 0 0 0 0 0 0 0 0 0 0 0 0 0 0 0 0 0 0 0 0 0 0 0 0]\n",
      "BUUFFFFERRRRR\n",
      "[1, 1, 0, 0, 1, 0, 1, 0, 0, 0, 1, 1, 1, 1, 0, 0, 1, 1, 1, 1, 0, 1, 0, 1, 0, 1, 1, 1, 1, 1, 1, 0, 1, 0, 0, 0, 1, 1, 0, 0, 1, 0, 0, 1, 1, 0, 0, 1, 1, 1, 1, 0, 1, 0, 1, 0, 0, 0, 1, 1, 0, 0, 0, 0, 1, 1, 1, 1, 1]\n",
      "End\n",
      "[0 0 0 0 0 0 0 0 0 0 0 0 0 0 0 0 0 0 0 0 0 0 0 0 0 0 0 0 0 0 0 0 0 0 0 0 0\n",
      " 0 0 0 0 0 0 0 0 0 0 0 0 0 0 0 0 0 0 0 0 0 0 0 0 0 0 0 0 0 0 0]\n",
      "BUUFFFFERRRRR\n",
      "[1, 1, 0, 0, 1, 0, 1, 0, 0, 0, 1, 1, 1, 1, 0, 0, 1, 1, 1, 1, 0, 1, 0, 1, 0, 1, 1, 1, 1, 1, 1, 0, 1, 0, 0, 0, 1, 1, 0, 0, 1, 0, 0, 1, 1, 0, 0, 1, 1, 1, 1, 0, 1, 0, 1, 0, 0, 0, 1, 1, 0, 0, 0, 0, 1, 1, 1, 1, 1]\n",
      "End\n",
      "[1 0 0 0 1 0 1 1 0 0 1 1 1 0 1 0 1 0 1 0 0 0 0 1 0 0 1 1 1 0 1 0 0 0 0 0 0\n",
      " 0 0 0 0 1 1 0 1 0 0 1 1 1 0 0 0 0 1 0 0 0 1 1 0 1 0 0 1 1 1 1]\n",
      "BUUFFFFERRRRR\n",
      "[1, 1, 0, 0, 1, 0, 1, 0, 0, 0, 1, 1, 1, 1, 0, 0, 1, 1, 1, 1, 0, 1, 0, 1, 0, 1, 1, 1, 1, 1, 1, 0, 1, 0, 0, 0, 1, 1, 0, 0, 1, 0, 0, 1, 1, 0, 0, 1, 1, 1, 1, 0, 1, 0, 1, 0, 0, 0, 1, 1, 0, 0, 0, 0, 1, 1, 1, 1, 1]\n",
      "End\n",
      "[1 0 0 0 1 0 1 1 0 0 1 1 1 0 1 0 1 0 1 0 0 0 0 1 0 0 1 1 1 0 1 0 0 0 0 0 0\n",
      " 0 0 0 0 1 1 0 1 0 0 1 1 1 0 0 0 0 1 0 0 0 1 1 0 1 0 0 1 1 1 1]\n",
      "BUUFFFFERRRRR\n",
      "[1, 1, 0, 0, 1, 0, 1, 0, 0, 0, 1, 1, 1, 1, 0, 0, 1, 1, 1, 1, 0, 1, 0, 1, 0, 1, 1, 1, 1, 1, 1, 0, 1, 0, 0, 0, 1, 1, 0, 0, 1, 0, 0, 1, 1, 0, 0, 1, 1, 1, 1, 0, 1, 0, 1, 0, 0, 0, 1, 1, 0, 0, 0, 0, 1, 1, 1, 1, 1]\n",
      "End\n"
     ]
    },
    {
     "name": "stderr",
     "output_type": "stream",
     "text": [
      "<ipython-input-323-57d46e15ce18>:13: DeprecationWarning: elementwise comparison failed; this will raise an error in the future.\n",
      "  acc_test = np.mean(Yhat_test == Y_test)\n",
      "<ipython-input-323-57d46e15ce18>:13: DeprecationWarning: elementwise comparison failed; this will raise an error in the future.\n",
      "  acc_test = np.mean(Yhat_test == Y_test)\n",
      "<ipython-input-323-57d46e15ce18>:13: DeprecationWarning: elementwise comparison failed; this will raise an error in the future.\n",
      "  acc_test = np.mean(Yhat_test == Y_test)\n",
      "<ipython-input-323-57d46e15ce18>:13: DeprecationWarning: elementwise comparison failed; this will raise an error in the future.\n",
      "  acc_test = np.mean(Yhat_test == Y_test)\n",
      "/Users/iqbal/opt/anaconda3/lib/python3.8/site-packages/sklearn/linear_model/_sag.py:329: ConvergenceWarning: The max_iter was reached which means the coef_ did not converge\n",
      "  warnings.warn(\"The max_iter was reached which means \"\n",
      "<ipython-input-323-57d46e15ce18>:13: DeprecationWarning: elementwise comparison failed; this will raise an error in the future.\n",
      "  acc_test = np.mean(Yhat_test == Y_test)\n",
      "/Users/iqbal/opt/anaconda3/lib/python3.8/site-packages/sklearn/linear_model/_sag.py:329: ConvergenceWarning: The max_iter was reached which means the coef_ did not converge\n",
      "  warnings.warn(\"The max_iter was reached which means \"\n",
      "<ipython-input-323-57d46e15ce18>:13: DeprecationWarning: elementwise comparison failed; this will raise an error in the future.\n",
      "  acc_test = np.mean(Yhat_test == Y_test)\n"
     ]
    }
   ],
   "source": [
    "for c in cVals:\n",
    "    logreg_model(c,X_train, Y_train, X_test, Y_test)"
   ]
  },
  {
   "cell_type": "code",
   "execution_count": 325,
   "metadata": {
    "scrolled": true
   },
   "outputs": [
    {
     "data": {
      "text/plain": [
       "<matplotlib.legend.Legend at 0x7fe8d9886fa0>"
      ]
     },
     "execution_count": 325,
     "metadata": {},
     "output_type": "execute_result"
    },
    {
     "data": {
      "image/png": "[encoded data removed]",
      "text/plain": [
       "<Figure size 432x288 with 1 Axes>"
      ]
     },
     "metadata": {
      "needs_background": "light"
     },
     "output_type": "display_data"
    }
   ],
   "source": [
    "plt.grid()\n",
    "plt.xlabel(\"c\")\n",
    "plt.ylabel(\"test acc and training acc vs c\")\n",
    "plt.scatter(c_logreg, acc_test_logreg)\n",
    "plt.grid()\n",
    "plt.scatter(c_logreg, acc_train_logreg)\n",
    "plt.legend(['Training Accuracy', 'Test Accuracy'], loc='lower right')"
   ]
  },
  {
   "cell_type": "markdown",
   "metadata": {},
   "source": [
    "# SVM with Linear Kernel"
   ]
  },
  {
   "cell_type": "code",
   "execution_count": 326,
   "metadata": {},
   "outputs": [],
   "source": [
    "\n",
    "def svm_linear(c):\n",
    "    svc_linear = svm.SVC(probability = False, kernel = 'linear', C = c)\n",
    "    svc_linear.fit(X_train, Y_train)\n",
    "    Yhat_svc_linear_train = svc_linear.predict(X_train)\n",
    "    acc_train = np.mean(Yhat_svc_linear_train == Y_train)\n",
    "    acc_train_svm_linear.append(acc_train)\n",
    "    print('Train Accuracy = {0:f}'.format(acc_train))\n",
    "    Yhat_svc_linear_test = svc_linear.predict(X_test)\n",
    "    acc_test = np.mean(Yhat_svc_linear_test == Y_test)\n",
    "    acc_test_svm_linear.append(acc_test)\n",
    "    print('Test Accuracy = {0:f}'.format(acc_test))\n",
    "    c_svm_linear.append(c)\n"
   ]
  },
  {
   "cell_type": "code",
   "execution_count": 327,
   "metadata": {},
   "outputs": [
    {
     "name": "stdout",
     "output_type": "stream",
     "text": [
      "Train Accuracy = 0.550000\n",
      "Test Accuracy = 0.000000\n",
      "Train Accuracy = 0.837500\n",
      "Test Accuracy = 0.000000\n",
      "Train Accuracy = 0.825000\n",
      "Test Accuracy = 0.000000\n",
      "Train Accuracy = 0.887500\n",
      "Test Accuracy = 0.000000\n",
      "Train Accuracy = 0.987500\n",
      "Test Accuracy = 0.000000\n",
      "Train Accuracy = 0.975000\n",
      "Test Accuracy = 0.000000\n"
     ]
    },
    {
     "name": "stderr",
     "output_type": "stream",
     "text": [
      "<ipython-input-326-88ef431e39ff>:9: DeprecationWarning: elementwise comparison failed; this will raise an error in the future.\n",
      "  acc_test = np.mean(Yhat_svc_linear_test == Y_test)\n",
      "<ipython-input-326-88ef431e39ff>:9: DeprecationWarning: elementwise comparison failed; this will raise an error in the future.\n",
      "  acc_test = np.mean(Yhat_svc_linear_test == Y_test)\n",
      "<ipython-input-326-88ef431e39ff>:9: DeprecationWarning: elementwise comparison failed; this will raise an error in the future.\n",
      "  acc_test = np.mean(Yhat_svc_linear_test == Y_test)\n",
      "<ipython-input-326-88ef431e39ff>:9: DeprecationWarning: elementwise comparison failed; this will raise an error in the future.\n",
      "  acc_test = np.mean(Yhat_svc_linear_test == Y_test)\n",
      "<ipython-input-326-88ef431e39ff>:9: DeprecationWarning: elementwise comparison failed; this will raise an error in the future.\n",
      "  acc_test = np.mean(Yhat_svc_linear_test == Y_test)\n",
      "<ipython-input-326-88ef431e39ff>:9: DeprecationWarning: elementwise comparison failed; this will raise an error in the future.\n",
      "  acc_test = np.mean(Yhat_svc_linear_test == Y_test)\n"
     ]
    }
   ],
   "source": [
    "for c in cVals:\n",
    "    svm_linear(c)"
   ]
  },
  {
   "cell_type": "code",
   "execution_count": null,
   "metadata": {},
   "outputs": [],
   "source": []
  }
 ],
 "metadata": {
  "kernelspec": {
   "display_name": "Python 3",
   "language": "python",
   "name": "python3"
  },
  "language_info": {
   "codemirror_mode": {
    "name": "ipython",
    "version": 3
   },
   "file_extension": ".py",
   "mimetype": "text/x-python",
   "name": "python",
   "nbconvert_exporter": "python",
   "pygments_lexer": "ipython3",
   "version": "3.8.5"
  }
 },
 "nbformat": 4,
 "nbformat_minor": 4
}
