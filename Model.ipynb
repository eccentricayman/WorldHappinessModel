{
 "cells": [
  {
   "cell_type": "code",
   "execution_count": 4,
   "metadata": {},
   "outputs": [],
   "source": [
    "import numpy as np\n",
    "import numpy.random as r\n",
    "import pandas as pd\n",
    "import matplotlib.pyplot as plt\n",
    "from sklearn import linear_model\n",
    "from sklearn.preprocessing import PolynomialFeatures, StandardScaler\n",
    "from sklearn import svm\n",
    "from sklearn.utils import shuffle\n",
    "from sklearn.model_selection import train_test_split\n",
    "from sklearn.metrics import accuracy_score \n",
    "import random\n",
    "%matplotlib inline"
   ]
  },
  {
   "cell_type": "code",
   "execution_count": 5,
   "metadata": {
    "scrolled": false
   },
   "outputs": [],
   "source": [
    "#Loading the dataset\n",
    "data = pd.read_csv(\"world-happiness-report-2021.csv\")\n",
    "data.dropna(axis=1)\n",
    "data = shuffle(data)\n"
   ]
  },
  {
   "cell_type": "code",
   "execution_count": 6,
   "metadata": {},
   "outputs": [
    {
     "name": "stdout",
     "output_type": "stream",
     "text": [
      "5.532838926174494\n"
     ]
    }
   ],
   "source": [
    "#Setting up the data\n",
    "df = data.values\n",
    "X = df[:,6:20]\n",
    "yOg = df[:,2]\n",
    "#Convert Y to find if a country is happy or not, \n",
    "#Find the average happiness of countries\n",
    "avgHappy = np.mean(yOg)\n",
    "print(avgHappy)\n",
    "Y = np.where(yOg < avgHappy, 0, 1)"
   ]
  },
  {
   "cell_type": "code",
   "execution_count": 7,
   "metadata": {},
   "outputs": [],
   "source": [
    "#Resources used were HW#5 and Lecture Notes\n",
    "#Setting up neccessary variables\n",
    "cVals = [0.0001, 0.001, 0.01, 0.1, 1, 10]\n",
    "#Creating a training set and testing test by pseduo-randomly assigning the sets\n",
    "X_train = X[0:80]\n",
    "Y_train = Y[0:80]\n",
    "X_test = X[80:]\n",
    "Y_test = Y[80:]"
   ]
  },
  {
   "cell_type": "markdown",
   "metadata": {},
   "source": [
    "# Logistic Regression with Ridge Regularization"
   ]
  },
  {
   "cell_type": "code",
   "execution_count": 8,
   "metadata": {},
   "outputs": [],
   "source": [
    "acc_train_logreg_ridge = []\n",
    "acc_test_logreg_ridge = []\n",
    "c_logreg_ridge = []"
   ]
  },
  {
   "cell_type": "code",
   "execution_count": 9,
   "metadata": {},
   "outputs": [],
   "source": [
    "def logreg_model_ridge(c, X_train, Y_train, X_test, Y_test):\n",
    "    logreg = linear_model.LogisticRegression(C = c,)\n",
    "    logreg.fit(X_train,Y_train)\n",
    "    Yhat_train = logreg.predict(X_train)\n",
    "    acc_train = np.mean(Yhat_train == Y_train)\n",
    "    acc_train_logreg_ridge.append(acc_train)\n",
    "    print(\"Accuracy on training data = %f\" % acc_train)\n",
    "    \n",
    "    Yhat_test = logreg.predict(X_test)\n",
    "    \n",
    "    acc_test = np.mean(Yhat_test == Y_test)\n",
    "    acc_test_logreg_ridge.append(acc_test)\n",
    "    print(\"Accuracy on test data = %f\" % acc_test)\n",
    "    c_logreg_ridge.append(c)"
   ]
  },
  {
   "cell_type": "code",
   "execution_count": 10,
   "metadata": {},
   "outputs": [
    {
     "name": "stdout",
     "output_type": "stream",
     "text": [
      "Accuracy on training data = 0.800000\n",
      "Accuracy on test data = 0.768116\n",
      "Accuracy on training data = 0.812500\n",
      "Accuracy on test data = 0.840580\n",
      "Accuracy on training data = 0.825000\n",
      "Accuracy on test data = 0.826087\n",
      "Accuracy on training data = 0.900000\n",
      "Accuracy on test data = 0.826087\n",
      "Accuracy on training data = 0.962500\n",
      "Accuracy on test data = 0.913043\n",
      "Accuracy on training data = 0.987500\n",
      "Accuracy on test data = 0.971014\n"
     ]
    },
    {
     "name": "stderr",
     "output_type": "stream",
     "text": [
      "/Users/iqbal/opt/anaconda3/lib/python3.8/site-packages/sklearn/linear_model/_logistic.py:762: ConvergenceWarning: lbfgs failed to converge (status=1):\n",
      "STOP: TOTAL NO. of ITERATIONS REACHED LIMIT.\n",
      "\n",
      "Increase the number of iterations (max_iter) or scale the data as shown in:\n",
      "    https://scikit-learn.org/stable/modules/preprocessing.html\n",
      "Please also refer to the documentation for alternative solver options:\n",
      "    https://scikit-learn.org/stable/modules/linear_model.html#logistic-regression\n",
      "  n_iter_i = _check_optimize_result(\n",
      "/Users/iqbal/opt/anaconda3/lib/python3.8/site-packages/sklearn/linear_model/_logistic.py:762: ConvergenceWarning: lbfgs failed to converge (status=1):\n",
      "STOP: TOTAL NO. of ITERATIONS REACHED LIMIT.\n",
      "\n",
      "Increase the number of iterations (max_iter) or scale the data as shown in:\n",
      "    https://scikit-learn.org/stable/modules/preprocessing.html\n",
      "Please also refer to the documentation for alternative solver options:\n",
      "    https://scikit-learn.org/stable/modules/linear_model.html#logistic-regression\n",
      "  n_iter_i = _check_optimize_result(\n"
     ]
    }
   ],
   "source": [
    "for c in cVals:\n",
    "    logreg_model_ridge(c,X_train, Y_train, X_test, Y_test)"
   ]
  },
  {
   "cell_type": "code",
   "execution_count": 11,
   "metadata": {},
   "outputs": [
    {
     "data": {
      "text/plain": [
       "<matplotlib.legend.Legend at 0x7fe2c4c58be0>"
      ]
     },
     "execution_count": 11,
     "metadata": {},
     "output_type": "execute_result"
    },
    {
     "data": {
      "image/png": "[encoded data removed]",
      "text/plain": [
       "<Figure size 432x288 with 1 Axes>"
      ]
     },
     "metadata": {
      "needs_background": "light"
     },
     "output_type": "display_data"
    }
   ],
   "source": [
    "plt.grid()\n",
    "plt.xlabel(\"c\")\n",
    "plt.ylabel(\"test acc and training acc vs c\")\n",
    "plt.scatter(c_logreg_ridge, acc_test_logreg_ridge)\n",
    "plt.grid()\n",
    "plt.scatter(c_logreg_ridge, acc_train_logreg_ridge)\n",
    "plt.legend(['Training Accuracy', 'Test Accuracy'], loc='lower right')"
   ]
  },
  {
   "cell_type": "markdown",
   "metadata": {},
   "source": [
    "# Logistic Regression with Lasso Regularization"
   ]
  },
  {
   "cell_type": "code",
   "execution_count": 12,
   "metadata": {},
   "outputs": [],
   "source": [
    "#Logistic Regression with Lasso Regularization\n",
    "acc_train_logreg_lasso = []\n",
    "acc_test_logreg_lasso = []\n",
    "c_logreg_lasso = []"
   ]
  },
  {
   "cell_type": "code",
   "execution_count": 13,
   "metadata": {},
   "outputs": [],
   "source": [
    "def logreg_model_lasso(c, X_train, Y_train, X_test, Y_test):\n",
    "    logreg = linear_model.LogisticRegression('l1',C = c,solver='saga')\n",
    "    logreg.fit(X_train,Y_train)\n",
    "    Yhat_train = logreg.predict(X_train)\n",
    "    acc_train = np.mean(Yhat_train == Y_train)\n",
    "    acc_train_logreg_lasso.append(acc_train)\n",
    "    print(\"Accuracy on training data = %f\" % acc_train)\n",
    "    \n",
    "    Yhat_test = logreg.predict(X_test)\n",
    "    \n",
    "    acc_test = np.mean(Yhat_test == Y_test)\n",
    "    acc_test_logreg_lasso.append(acc_test)\n",
    "    print(\"Accuracy on test data = %f\" % acc_test)\n",
    "    c_logreg_lasso.append(c)"
   ]
  },
  {
   "cell_type": "code",
   "execution_count": 14,
   "metadata": {},
   "outputs": [
    {
     "name": "stdout",
     "output_type": "stream",
     "text": [
      "Accuracy on training data = 0.512500\n",
      "Accuracy on test data = 0.478261\n",
      "Accuracy on training data = 0.512500\n",
      "Accuracy on test data = 0.478261\n",
      "Accuracy on training data = 0.550000\n",
      "Accuracy on test data = 0.623188\n",
      "Accuracy on training data = 0.487500\n",
      "Accuracy on test data = 0.521739\n",
      "Accuracy on training data = 0.775000\n",
      "Accuracy on test data = 0.855072\n",
      "Accuracy on training data = 0.812500\n",
      "Accuracy on test data = 0.855072\n"
     ]
    },
    {
     "name": "stderr",
     "output_type": "stream",
     "text": [
      "/Users/iqbal/opt/anaconda3/lib/python3.8/site-packages/sklearn/linear_model/_sag.py:329: ConvergenceWarning: The max_iter was reached which means the coef_ did not converge\n",
      "  warnings.warn(\"The max_iter was reached which means \"\n",
      "/Users/iqbal/opt/anaconda3/lib/python3.8/site-packages/sklearn/linear_model/_sag.py:329: ConvergenceWarning: The max_iter was reached which means the coef_ did not converge\n",
      "  warnings.warn(\"The max_iter was reached which means \"\n",
      "/Users/iqbal/opt/anaconda3/lib/python3.8/site-packages/sklearn/linear_model/_sag.py:329: ConvergenceWarning: The max_iter was reached which means the coef_ did not converge\n",
      "  warnings.warn(\"The max_iter was reached which means \"\n",
      "/Users/iqbal/opt/anaconda3/lib/python3.8/site-packages/sklearn/linear_model/_sag.py:329: ConvergenceWarning: The max_iter was reached which means the coef_ did not converge\n",
      "  warnings.warn(\"The max_iter was reached which means \"\n"
     ]
    }
   ],
   "source": [
    "for c in cVals:\n",
    "    logreg_model_lasso(c,X_train, Y_train, X_test, Y_test)"
   ]
  },
  {
   "cell_type": "code",
   "execution_count": 15,
   "metadata": {
    "scrolled": true
   },
   "outputs": [
    {
     "data": {
      "text/plain": [
       "<matplotlib.legend.Legend at 0x7fe2c4d7af40>"
      ]
     },
     "execution_count": 15,
     "metadata": {},
     "output_type": "execute_result"
    },
    {
     "data": {
      "image/png": "[encoded data removed]",
      "text/plain": [
       "<Figure size 432x288 with 1 Axes>"
      ]
     },
     "metadata": {
      "needs_background": "light"
     },
     "output_type": "display_data"
    }
   ],
   "source": [
    "plt.grid()\n",
    "plt.xlabel(\"c\")\n",
    "plt.ylabel(\"test acc and training acc vs c\")\n",
    "plt.scatter(c_logreg_lasso, acc_test_logreg_lasso)\n",
    "plt.grid()\n",
    "plt.scatter(c_logreg_lasso, acc_train_logreg_lasso)\n",
    "plt.legend(['Training Accuracy', 'Test Accuracy'], loc='lower right')"
   ]
  },
  {
   "cell_type": "markdown",
   "metadata": {},
   "source": [
    "# Logistic Regression with Polynomial Feature Transformation"
   ]
  },
  {
   "cell_type": "code",
   "execution_count": 16,
   "metadata": {},
   "outputs": [
    {
     "name": "stdout",
     "output_type": "stream",
     "text": [
      "Accuracy on training data = 0.962500\n",
      "Accuracy on test data = 0.898551\n",
      "Accuracy on training data = 0.975000\n",
      "Accuracy on test data = 1.000000\n",
      "Accuracy on training data = 0.975000\n",
      "Accuracy on test data = 0.985507\n",
      "Accuracy on training data = 1.000000\n",
      "Accuracy on test data = 0.985507\n",
      "Accuracy on training data = 1.000000\n",
      "Accuracy on test data = 0.985507\n",
      "Accuracy on training data = 1.000000\n",
      "Accuracy on test data = 0.971014\n"
     ]
    },
    {
     "name": "stderr",
     "output_type": "stream",
     "text": [
      "/Users/iqbal/opt/anaconda3/lib/python3.8/site-packages/sklearn/linear_model/_logistic.py:762: ConvergenceWarning: lbfgs failed to converge (status=1):\n",
      "STOP: TOTAL NO. of ITERATIONS REACHED LIMIT.\n",
      "\n",
      "Increase the number of iterations (max_iter) or scale the data as shown in:\n",
      "    https://scikit-learn.org/stable/modules/preprocessing.html\n",
      "Please also refer to the documentation for alternative solver options:\n",
      "    https://scikit-learn.org/stable/modules/linear_model.html#logistic-regression\n",
      "  n_iter_i = _check_optimize_result(\n",
      "/Users/iqbal/opt/anaconda3/lib/python3.8/site-packages/sklearn/linear_model/_logistic.py:762: ConvergenceWarning: lbfgs failed to converge (status=1):\n",
      "STOP: TOTAL NO. of ITERATIONS REACHED LIMIT.\n",
      "\n",
      "Increase the number of iterations (max_iter) or scale the data as shown in:\n",
      "    https://scikit-learn.org/stable/modules/preprocessing.html\n",
      "Please also refer to the documentation for alternative solver options:\n",
      "    https://scikit-learn.org/stable/modules/linear_model.html#logistic-regression\n",
      "  n_iter_i = _check_optimize_result(\n",
      "/Users/iqbal/opt/anaconda3/lib/python3.8/site-packages/sklearn/linear_model/_logistic.py:762: ConvergenceWarning: lbfgs failed to converge (status=1):\n",
      "STOP: TOTAL NO. of ITERATIONS REACHED LIMIT.\n",
      "\n",
      "Increase the number of iterations (max_iter) or scale the data as shown in:\n",
      "    https://scikit-learn.org/stable/modules/preprocessing.html\n",
      "Please also refer to the documentation for alternative solver options:\n",
      "    https://scikit-learn.org/stable/modules/linear_model.html#logistic-regression\n",
      "  n_iter_i = _check_optimize_result(\n",
      "/Users/iqbal/opt/anaconda3/lib/python3.8/site-packages/sklearn/linear_model/_logistic.py:762: ConvergenceWarning: lbfgs failed to converge (status=1):\n",
      "STOP: TOTAL NO. of ITERATIONS REACHED LIMIT.\n",
      "\n",
      "Increase the number of iterations (max_iter) or scale the data as shown in:\n",
      "    https://scikit-learn.org/stable/modules/preprocessing.html\n",
      "Please also refer to the documentation for alternative solver options:\n",
      "    https://scikit-learn.org/stable/modules/linear_model.html#logistic-regression\n",
      "  n_iter_i = _check_optimize_result(\n",
      "/Users/iqbal/opt/anaconda3/lib/python3.8/site-packages/sklearn/linear_model/_logistic.py:762: ConvergenceWarning: lbfgs failed to converge (status=1):\n",
      "STOP: TOTAL NO. of ITERATIONS REACHED LIMIT.\n",
      "\n",
      "Increase the number of iterations (max_iter) or scale the data as shown in:\n",
      "    https://scikit-learn.org/stable/modules/preprocessing.html\n",
      "Please also refer to the documentation for alternative solver options:\n",
      "    https://scikit-learn.org/stable/modules/linear_model.html#logistic-regression\n",
      "  n_iter_i = _check_optimize_result(\n",
      "/Users/iqbal/opt/anaconda3/lib/python3.8/site-packages/sklearn/linear_model/_logistic.py:762: ConvergenceWarning: lbfgs failed to converge (status=1):\n",
      "STOP: TOTAL NO. of ITERATIONS REACHED LIMIT.\n",
      "\n",
      "Increase the number of iterations (max_iter) or scale the data as shown in:\n",
      "    https://scikit-learn.org/stable/modules/preprocessing.html\n",
      "Please also refer to the documentation for alternative solver options:\n",
      "    https://scikit-learn.org/stable/modules/linear_model.html#logistic-regression\n",
      "  n_iter_i = _check_optimize_result(\n"
     ]
    },
    {
     "data": {
      "text/plain": [
       "<matplotlib.legend.Legend at 0x7fe2c4e373a0>"
      ]
     },
     "execution_count": 16,
     "metadata": {},
     "output_type": "execute_result"
    },
    {
     "data": {
      "image/png": "[encoded data removed]",
      "text/plain": [
       "<Figure size 432x288 with 1 Axes>"
      ]
     },
     "metadata": {
      "needs_background": "light"
     },
     "output_type": "display_data"
    }
   ],
   "source": [
    "poly = PolynomialFeatures(2)\n",
    "X_train_transformed = poly.fit_transform(X_train)\n",
    "X_test_transformed = poly.fit_transform(X_test)\n",
    "X_test_transformed.shape\n",
    "acc_train_logreg_ridge = []\n",
    "acc_test_logreg_ridge = []\n",
    "c_logreg_ridge = []\n",
    "\n",
    "for c in cVals:\n",
    "    logreg_model_ridge(c, X_train_transformed, Y_train, X_test_transformed, Y_test)\n",
    "\n",
    "\n",
    "plt.grid()\n",
    "plt.xlabel(\"c\")\n",
    "plt.ylabel(\"test acc and training acc vs c\")\n",
    "plt.scatter(c_logreg_ridge, acc_test_logreg_ridge)\n",
    "plt.grid()\n",
    "plt.scatter(c_logreg_ridge, acc_train_logreg_ridge)\n",
    "plt.legend(['Training Accuracy', 'Test Accuracy'], loc='lower right')\n"
   ]
  },
  {
   "cell_type": "markdown",
   "metadata": {},
   "source": [
    "# SVM with Linear Kernel"
   ]
  },
  {
   "cell_type": "code",
   "execution_count": 17,
   "metadata": {},
   "outputs": [],
   "source": [
    "acc_train_svm_linear = []\n",
    "acc_test_svm_linear = []\n",
    "c_svm_linear = []"
   ]
  },
  {
   "cell_type": "code",
   "execution_count": 18,
   "metadata": {},
   "outputs": [],
   "source": [
    "def svm_linear(c):\n",
    "    svc_linear = svm.SVC(probability = False, kernel = 'linear', C = c)\n",
    "    svc_linear.fit(X_train, Y_train)\n",
    "    Yhat_svc_linear_train = svc_linear.predict(X_train)\n",
    "    acc_train = np.mean(Yhat_svc_linear_train == Y_train)\n",
    "    acc_train_svm_linear.append(acc_train)\n",
    "    print('Train Accuracy = {0:f}'.format(acc_train))\n",
    "    Yhat_svc_linear_test = svc_linear.predict(X_test)\n",
    "    acc_test = np.mean(Yhat_svc_linear_test == Y_test)\n",
    "    acc_test_svm_linear.append(acc_test)\n",
    "    print('Test Accuracy = {0:f}'.format(acc_test))\n",
    "    c_svm_linear.append(c)\n"
   ]
  },
  {
   "cell_type": "code",
   "execution_count": 19,
   "metadata": {},
   "outputs": [
    {
     "name": "stdout",
     "output_type": "stream",
     "text": [
      "Train Accuracy = 0.512500\n",
      "Test Accuracy = 0.478261\n",
      "Train Accuracy = 0.837500\n",
      "Test Accuracy = 0.840580\n",
      "Train Accuracy = 0.837500\n",
      "Test Accuracy = 0.840580\n",
      "Train Accuracy = 0.950000\n",
      "Test Accuracy = 0.884058\n",
      "Train Accuracy = 0.962500\n",
      "Test Accuracy = 0.985507\n",
      "Train Accuracy = 0.987500\n",
      "Test Accuracy = 0.985507\n"
     ]
    }
   ],
   "source": [
    "for c in cVals:\n",
    "    svm_linear(c)"
   ]
  },
  {
   "cell_type": "code",
   "execution_count": 20,
   "metadata": {},
   "outputs": [
    {
     "data": {
      "text/plain": [
       "<matplotlib.legend.Legend at 0x7fe2c4f41b20>"
      ]
     },
     "execution_count": 20,
     "metadata": {},
     "output_type": "execute_result"
    },
    {
     "data": {
      "image/png": "[encoded data removed]",
      "text/plain": [
       "<Figure size 432x288 with 1 Axes>"
      ]
     },
     "metadata": {
      "needs_background": "light"
     },
     "output_type": "display_data"
    }
   ],
   "source": [
    "plt.grid()\n",
    "plt.xlabel('c')\n",
    "plt.ylabel('test acc and training acc vs c')\n",
    "plt.scatter(c_svm_linear,acc_test_svm_linear)\n",
    "plt.grid()\n",
    "plt.scatter(c_svm_linear,acc_train_svm_linear)\n",
    "plt.legend(['Training Accuracy', 'Test Accuracy'], loc='upper right')"
   ]
  },
  {
   "cell_type": "markdown",
   "metadata": {},
   "source": [
    "# SVM with RBF"
   ]
  },
  {
   "cell_type": "code",
   "execution_count": 23,
   "metadata": {},
   "outputs": [],
   "source": [
    "acc_train_svm_rbf = []\n",
    "acc_test_svm_rbf = []\n",
    "c_svm_rbf = []"
   ]
  },
  {
   "cell_type": "code",
   "execution_count": 24,
   "metadata": {},
   "outputs": [],
   "source": [
    "def svm_rbf(c):\n",
    "    svc_linear = svm.SVC(probability = False, kernel = 'rbf', C = c)\n",
    "    svc_linear.fit(X_train, Y_train)\n",
    "    Yhat_svc_linear_train = svc_linear.predict(X_train)\n",
    "    acc_train = np.mean(Yhat_svc_linear_train == Y_train)\n",
    "    acc_train_svm_rbf.append(acc_train)\n",
    "    print('Train Accuracy = {0:f}'.format(acc_train))\n",
    "    Yhat_svc_linear_test = svc_linear.predict(X_test)\n",
    "    acc_test = np.mean(Yhat_svc_linear_test == Y_test)\n",
    "    acc_test_svm_rbf.append(acc_test)\n",
    "    print('Test Accuracy = {0:f}'.format(acc_test))\n",
    "    c_svm_rbf.append(c)"
   ]
  },
  {
   "cell_type": "code",
   "execution_count": 25,
   "metadata": {},
   "outputs": [
    {
     "name": "stdout",
     "output_type": "stream",
     "text": [
      "Train Accuracy = 0.512500\n",
      "Test Accuracy = 0.478261\n",
      "Train Accuracy = 0.512500\n",
      "Test Accuracy = 0.478261\n",
      "Train Accuracy = 0.512500\n",
      "Test Accuracy = 0.478261\n",
      "Train Accuracy = 0.512500\n",
      "Test Accuracy = 0.478261\n",
      "Train Accuracy = 0.800000\n",
      "Test Accuracy = 0.840580\n",
      "Train Accuracy = 0.812500\n",
      "Test Accuracy = 0.840580\n"
     ]
    }
   ],
   "source": [
    "for c in cVals:\n",
    "    svm_rbf(c)"
   ]
  },
  {
   "cell_type": "code",
   "execution_count": 26,
   "metadata": {},
   "outputs": [
    {
     "data": {
      "text/plain": [
       "<matplotlib.legend.Legend at 0x7fe2c5207cd0>"
      ]
     },
     "execution_count": 26,
     "metadata": {},
     "output_type": "execute_result"
    },
    {
     "data": {
      "image/png": "[encoded data removed]",
      "text/plain": [
       "<Figure size 432x288 with 1 Axes>"
      ]
     },
     "metadata": {
      "needs_background": "light"
     },
     "output_type": "display_data"
    }
   ],
   "source": [
    "plt.grid()\n",
    "plt.xlabel('c')\n",
    "plt.ylabel('test acc and training acc vs c')\n",
    "plt.scatter(c_svm_rbf,acc_test_svm_rbf)\n",
    "plt.grid()\n",
    "plt.scatter(c_svm_rbf,acc_train_svm_rbf)\n",
    "plt.legend(['Training Accuracy', 'Test Accuracy'], loc='lower right')"
   ]
  },
  {
   "cell_type": "markdown",
   "metadata": {},
   "source": [
    "# SVM with Polynomial"
   ]
  },
  {
   "cell_type": "code",
   "execution_count": 28,
   "metadata": {},
   "outputs": [],
   "source": [
    "acc_train_svm_poly = []\n",
    "acc_test_svm_poly = []\n",
    "c_svm_poly = []"
   ]
  },
  {
   "cell_type": "code",
   "execution_count": 30,
   "metadata": {},
   "outputs": [],
   "source": [
    "def svm_polynomial(c):\n",
    "    svm_polynomial = svm.SVC(probability = False, kernel = \"poly\", C=c)\n",
    "    #Optional to change the training sets to make poly work faster\n",
    "    svm_polynomial.fit(X_train,Y_train)\n",
    "    Yhat_svm_train_poly = svm_polynomial.predict(X_train)\n",
    "    acc_train = np.mean(Yhat_svm_train_poly == Y_train)\n",
    "    acc_train_svm_poly.append(acc_train)\n",
    "    print(\"Train Accuracy = {0:f}\".format(acc_train))\n",
    "    Yhat_svm_test_poly = svm_polynomial.predict(X_test)\n",
    "    acc_test = np.mean(Yhat_svm_test_poly == Y_test)\n",
    "    acc_test_svm_poly.append(acc_test)\n",
    "    print('Test Accuracy = {0:f}'.format(acc_test))\n",
    "    c_svm_poly.append(c)"
   ]
  },
  {
   "cell_type": "code",
   "execution_count": 31,
   "metadata": {},
   "outputs": [
    {
     "name": "stdout",
     "output_type": "stream",
     "text": [
      "Train Accuracy = 0.512500\n",
      "Test Accuracy = 0.478261\n",
      "Train Accuracy = 0.512500\n",
      "Test Accuracy = 0.478261\n",
      "Train Accuracy = 0.512500\n",
      "Test Accuracy = 0.478261\n",
      "Train Accuracy = 0.825000\n",
      "Test Accuracy = 0.826087\n",
      "Train Accuracy = 0.825000\n",
      "Test Accuracy = 0.811594\n",
      "Train Accuracy = 0.825000\n",
      "Test Accuracy = 0.826087\n"
     ]
    }
   ],
   "source": [
    "#Could take long\n",
    "for c in cVals:\n",
    "    svm_polynomial(c)"
   ]
  },
  {
   "cell_type": "code",
   "execution_count": 32,
   "metadata": {},
   "outputs": [
    {
     "data": {
      "text/plain": [
       "<matplotlib.legend.Legend at 0x7fe2c5294a90>"
      ]
     },
     "execution_count": 32,
     "metadata": {},
     "output_type": "execute_result"
    },
    {
     "data": {
      "image/png": "[encoded data removed]",
      "text/plain": [
       "<Figure size 432x288 with 1 Axes>"
      ]
     },
     "metadata": {
      "needs_background": "light"
     },
     "output_type": "display_data"
    }
   ],
   "source": [
    "#Wait for above block to finish executing\n",
    "plt.grid()\n",
    "plt.xlabel('c')\n",
    "plt.ylabel('test acc and training acc vs c')\n",
    "plt.scatter(c_svm_poly,acc_test_svm_poly)\n",
    "plt.grid()\n",
    "\n",
    "plt.scatter(c_svm_poly,acc_train_svm_poly)\n",
    "plt.legend(['Training Accuracy', 'Test Accuracy'], loc='upper right')"
   ]
  },
  {
   "cell_type": "markdown",
   "metadata": {},
   "source": [
    "# Neural Network"
   ]
  },
  {
   "cell_type": "code",
   "execution_count": 33,
   "metadata": {},
   "outputs": [],
   "source": [
    "X_scale = StandardScaler() \n",
    "X = X_scale.fit_transform(X)#scale to unit\n",
    "\n",
    "X_train, X_test, y_train, y_test = train_test_split(X, Y, test_size=0.4)"
   ]
  },
  {
   "cell_type": "code",
   "execution_count": 34,
   "metadata": {},
   "outputs": [],
   "source": [
    "def convert_y_to_vect(y):\n",
    "    y_vect = np.zeros((len(y), 10))\n",
    "    for i in range(len(y)):\n",
    "        y_vect[i, y[i]] = 1\n",
    "    return y_vect"
   ]
  },
  {
   "cell_type": "code",
   "execution_count": 35,
   "metadata": {},
   "outputs": [],
   "source": [
    "yv_train = convert_y_to_vect(y_train)\n",
    "yv_test = convert_y_to_vect(y_test)"
   ]
  },
  {
   "cell_type": "code",
   "execution_count": 36,
   "metadata": {},
   "outputs": [],
   "source": [
    "def f(z):\n",
    "    return 1 / (1 + np.exp(-z))\n",
    "\n",
    "\n",
    "def f_deriv(z):\n",
    "    return f(z) * (1 - f(z))"
   ]
  },
  {
   "cell_type": "code",
   "execution_count": 37,
   "metadata": {},
   "outputs": [],
   "source": [
    "def setup_and_init_weights(nn_structure):\n",
    "    W = {} #creating a dictionary i.e. a set of key: value pairs\n",
    "    b = {}\n",
    "    for l in range(1, len(nn_structure)):\n",
    "        W[l] = r.random_sample((nn_structure[l], nn_structure[l-1])) #Return “continuous uniform” random floats in the half-open interval [0.0, 1.0). \n",
    "        b[l] = r.random_sample((nn_structure[l],))\n",
    "    return W, b"
   ]
  },
  {
   "cell_type": "code",
   "execution_count": 38,
   "metadata": {},
   "outputs": [],
   "source": [
    "def init_tri_values(nn_structure):\n",
    "    tri_W = {}\n",
    "    tri_b = {}\n",
    "    for l in range(1, len(nn_structure)):\n",
    "        tri_W[l] = np.zeros((nn_structure[l], nn_structure[l-1]))\n",
    "        tri_b[l] = np.zeros((nn_structure[l],))\n",
    "    return tri_W, tri_b"
   ]
  },
  {
   "cell_type": "code",
   "execution_count": 39,
   "metadata": {},
   "outputs": [],
   "source": [
    "def feed_forward(x, W, b):\n",
    "    a = {1: x} # create a dictionary for holding the a values for all levels\n",
    "    z = { } # create a dictionary for holding the z values for all the layers\n",
    "    for l in range(1, len(W) + 1): # for each layer\n",
    "        node_in = a[l]\n",
    "        z[l+1] = W[l].dot(node_in) + b[l]  # z^(l+1) = W^(l)*a^(l) + b^(l)\n",
    "        a[l+1] = f(z[l+1]) # a^(l+1) = f(z^(l+1))\n",
    "    return a, z"
   ]
  },
  {
   "cell_type": "code",
   "execution_count": 40,
   "metadata": {},
   "outputs": [],
   "source": [
    "def calculate_out_layer_delta(y, a_out, z_out):\n",
    "    # delta^(nl) = -(y_i - a_i^(nl)) * f'(z_i^(nl))\n",
    "    return -(y-a_out) * f_deriv(z_out) \n",
    "\n",
    "\n",
    "def calculate_hidden_delta(delta_plus_1, w_l, z_l):\n",
    "    # delta^(l) = (transpose(W^(l)) * delta^(l+1)) * f'(z^(l))\n",
    "    return np.dot(np.transpose(w_l), delta_plus_1) * f_deriv(z_l)"
   ]
  },
  {
   "cell_type": "code",
   "execution_count": 41,
   "metadata": {},
   "outputs": [],
   "source": [
    "def train_nn(nn_structure, X, y, iter_num=3000, alpha=0.25):\n",
    "    W, b = setup_and_init_weights(nn_structure)\n",
    "    cnt = 0\n",
    "    N = len(y)\n",
    "    avg_cost_func = []\n",
    "    print('Starting gradient descent for {} iterations'.format(iter_num))\n",
    "    while cnt < iter_num:\n",
    "        if cnt%1000 == 0:\n",
    "            print('Iteration {} of {}'.format(cnt, iter_num))\n",
    "        tri_W, tri_b = init_tri_values(nn_structure)\n",
    "        avg_cost = 0\n",
    "        for i in range(N):\n",
    "            delta = {}\n",
    "            # perform the feed forward pass and return the stored a and z values, to be used in the\n",
    "            # gradient descent step\n",
    "            a, z = feed_forward(X[i, :], W, b)\n",
    "            # loop from nl-1 to 1 backpropagating the errors\n",
    "            for l in range(len(nn_structure), 0, -1):\n",
    "                if l == len(nn_structure):\n",
    "                    delta[l] = calculate_out_layer_delta(y[i,:], a[l], z[l])\n",
    "                    avg_cost += np.linalg.norm((y[i,:]-a[l]))\n",
    "                else:\n",
    "                    if l > 1:\n",
    "                        delta[l] = calculate_hidden_delta(delta[l+1], W[l], z[l])\n",
    "                    # triW^(l) = triW^(l) + delta^(l+1) * transpose(a^(l))\n",
    "                    tri_W[l] += np.dot(delta[l+1][:,np.newaxis], np.transpose(a[l][:,np.newaxis]))# np.newaxis increase the number of dimensions\n",
    "                    # trib^(l) = trib^(l) + delta^(l+1)\n",
    "                    tri_b[l] += delta[l+1]\n",
    "        # perform the gradient descent step for the weights in each layer\n",
    "        for l in range(len(nn_structure) - 1, 0, -1):\n",
    "            W[l] += -alpha * (1.0/N * tri_W[l])\n",
    "            b[l] += -alpha * (1.0/N * tri_b[l])\n",
    "        # complete the average cost calculation\n",
    "        avg_cost = 1.0/N * avg_cost\n",
    "        avg_cost_func.append(avg_cost)\n",
    "        cnt += 1\n",
    "    return W, b, avg_cost_func\n",
    "\n",
    "\n",
    "def predict_y(W, b, X, n_layers):\n",
    "    N = X.shape[0]\n",
    "    y = np.zeros((N,))\n",
    "    for i in range(N):\n",
    "        a, z = feed_forward(X[i, :], W, b)\n",
    "        y[i] = np.argmax(a[n_layers])\n",
    "    return y"
   ]
  },
  {
   "cell_type": "code",
   "execution_count": 42,
   "metadata": {},
   "outputs": [
    {
     "name": "stdout",
     "output_type": "stream",
     "text": [
      "Starting gradient descent for 3000 iterations\n",
      "Iteration 0 of 3000\n",
      "Iteration 1000 of 3000\n",
      "Iteration 2000 of 3000\n"
     ]
    }
   ],
   "source": [
    "nn_structure = [14, 28, 10]\n",
    "\n",
    "W, b, avg_cost_func = train_nn(nn_structure, X_train, yv_train, 3000)"
   ]
  },
  {
   "cell_type": "code",
   "execution_count": 43,
   "metadata": {},
   "outputs": [
    {
     "data": {
      "image/png": "[encoded data removed]",
      "text/plain": [
       "<Figure size 432x288 with 1 Axes>"
      ]
     },
     "metadata": {
      "needs_background": "light"
     },
     "output_type": "display_data"
    }
   ],
   "source": [
    "plt.plot(avg_cost_func)\n",
    "plt.ylabel('test acc and training acc vs c')\n",
    "plt.xlabel('c')\n",
    "plt.show()"
   ]
  },
  {
   "cell_type": "code",
   "execution_count": 122,
   "metadata": {},
   "outputs": [
    {
     "name": "stdout",
     "output_type": "stream",
     "text": [
      "Prediction accuracy is 45.0%\n"
     ]
    }
   ],
   "source": [
    "y_pred = predict_y(W, b, X_test, 3)\n",
    "print('Prediction accuracy is {}%'.format(accuracy_score(y_test, y_pred) * 100))"
   ]
  },
  {
   "cell_type": "code",
   "execution_count": null,
   "metadata": {},
   "outputs": [],
   "source": []
  }
 ],
 "metadata": {
  "kernelspec": {
   "display_name": "Python 3",
   "language": "python",
   "name": "python3"
  },
  "language_info": {
   "codemirror_mode": {
    "name": "ipython",
    "version": 3
   },
   "file_extension": ".py",
   "mimetype": "text/x-python",
   "name": "python",
   "nbconvert_exporter": "python",
   "pygments_lexer": "ipython3",
   "version": "3.8.5"
  }
 },
 "nbformat": 4,
 "nbformat_minor": 4
}
